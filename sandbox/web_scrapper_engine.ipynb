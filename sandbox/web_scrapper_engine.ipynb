{
 "cells": [
  {
   "cell_type": "code",
   "execution_count": 1,
   "metadata": {},
   "outputs": [],
   "source": [
    "import requests\n",
    "import pandas as pd\n",
    "import numpy as np\n",
    "import sqlite3 as db\n",
    "from bs4 import BeautifulSoup\n"
   ]
  },
  {
   "cell_type": "code",
   "execution_count": 2,
   "metadata": {},
   "outputs": [],
   "source": [
    "def scrapper(lista):\n",
    "    container = []\n",
    "    for item in lista:\n",
    "        page = requests.get(item)\n",
    "        soup = BeautifulSoup(page.text, 'html.parser')\n",
    "        product_list = soup.find(class_='products products-list')\n",
    "        product_title = [item.text for item in product_list.find_all('a',attrs={'class':'product-title'})]\n",
    "        product_descr = [item.text for item in product_list.find_all('div',attrs={'class':'descr'})]\n",
    "        product_price = [item.find(class_='currency').text for item in product_list.find_all('span',attrs={'class':'price-value'})]\n",
    "        products = list(zip(product_title,product_descr,product_price))\n",
    "        container.append(products)\n",
    "    return container\n",
    "        \n",
    "        "
   ]
  },
  {
   "cell_type": "code",
   "execution_count": 3,
   "metadata": {},
   "outputs": [],
   "source": [
    "links = ['https://www.stationaryengineparts.com/Lister-Start-O-Matic-Spares/',\n",
    "         'https://www.stationaryengineparts.com/Lister-A-and-B-spares/',\n",
    "        'https://www.stationaryengineparts.com/Lister-HA-HB-HL-HR-and-HW-Engine-Spares/']\n",
    "scrapped_data = scrapper(links)"
   ]
  },
  {
   "cell_type": "code",
   "execution_count": 4,
   "metadata": {},
   "outputs": [],
   "source": [
    "flatten_data = [l2 for sublist in scrapped_data for l2 in sublist] "
   ]
  },
  {
   "cell_type": "code",
   "execution_count": 5,
   "metadata": {},
   "outputs": [],
   "source": [
    "df = pd.DataFrame(flatten_data, columns =['product', 'description', 'price']) \n",
    "df['quantity'] = np.random.randint(1, 2000,df.shape[0])"
   ]
  },
  {
   "cell_type": "code",
   "execution_count": 6,
   "metadata": {},
   "outputs": [],
   "source": [
    "# Open connection to DB\n",
    "conn = db.connect('demo.sqlite')\n",
    "df.to_sql('products', conn, if_exists='append', index=False)"
   ]
  },
  {
   "cell_type": "code",
   "execution_count": 8,
   "metadata": {},
   "outputs": [],
   "source": [
    "conn.close()"
   ]
  },
  {
   "cell_type": "code",
   "execution_count": null,
   "metadata": {},
   "outputs": [],
   "source": []
  }
 ],
 "metadata": {
  "kernelspec": {
   "display_name": "Python 3",
   "language": "python",
   "name": "python3"
  },
  "language_info": {
   "codemirror_mode": {
    "name": "ipython",
    "version": 3
   },
   "file_extension": ".py",
   "mimetype": "text/x-python",
   "name": "python",
   "nbconvert_exporter": "python",
   "pygments_lexer": "ipython3",
   "version": "3.6.6"
  }
 },
 "nbformat": 4,
 "nbformat_minor": 2
}
